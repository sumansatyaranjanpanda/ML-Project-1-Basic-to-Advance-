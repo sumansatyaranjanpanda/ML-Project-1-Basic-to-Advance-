{
 "cells": [
  {
   "cell_type": "code",
   "execution_count": null,
   "id": "c3afc566",
   "metadata": {},
   "outputs": [],
   "source": [
    "import numpy as np\n",
    "import pandas as pd\n",
    "import seaborn as sns\n",
    "import matplotlib.pyplot as plt\n",
    "%matplotlib inline\n",
    "import warnings\n",
    "warnings.filterwarnings('ignore')\n",
    "\n",
    "from sklearn.linear_model import (\n",
    "    LinearRegression,\n",
    "    Ridge,\n",
    "    Lasso,\n",
    "    ElasticNet,\n",
    "    BayesianRidge,\n",
    "    HuberRegressor\n",
    ")\n",
    "from sklearn.tree import DecisionTreeRegressor\n",
    "from sklearn.ensemble import (\n",
    "    RandomForestRegressor,\n",
    "    GradientBoostingRegressor,\n",
    "    AdaBoostRegressor,\n",
    "    ExtraTreesRegressor,\n",
    "    BaggingRegressor\n",
    ")\n",
    "from sklearn.svm import SVR\n",
    "from sklearn.neighbors import KNeighborsRegressor\n",
    "from sklearn.gaussian_process import GaussianProcessRegressor\n",
    "from sklearn.linear_model import PassiveAggressiveRegressor\n",
    "from sklearn.dummy import DummyRegressor\n",
    "\n",
    "from sklearn.metrics import mean_absolute_error, mean_squared_error, r2_score\n",
    "\n"
   ]
  },
  {
   "cell_type": "code",
   "execution_count": 2,
   "id": "92d7ce37",
   "metadata": {},
   "outputs": [],
   "source": [
    "df=pd.read_csv('DATA/StudentsPerformance.csv')"
   ]
  },
  {
   "cell_type": "code",
   "execution_count": 5,
   "id": "31e6353b",
   "metadata": {},
   "outputs": [
    {
     "data": {
      "text/html": [
       "<div>\n",
       "<style scoped>\n",
       "    .dataframe tbody tr th:only-of-type {\n",
       "        vertical-align: middle;\n",
       "    }\n",
       "\n",
       "    .dataframe tbody tr th {\n",
       "        vertical-align: top;\n",
       "    }\n",
       "\n",
       "    .dataframe thead th {\n",
       "        text-align: right;\n",
       "    }\n",
       "</style>\n",
       "<table border=\"1\" class=\"dataframe\">\n",
       "  <thead>\n",
       "    <tr style=\"text-align: right;\">\n",
       "      <th></th>\n",
       "      <th>gender</th>\n",
       "      <th>race/ethnicity</th>\n",
       "      <th>parental level of education</th>\n",
       "      <th>lunch</th>\n",
       "      <th>test preparation course</th>\n",
       "      <th>math score</th>\n",
       "      <th>reading score</th>\n",
       "      <th>writing score</th>\n",
       "      <th>total score</th>\n",
       "    </tr>\n",
       "  </thead>\n",
       "  <tbody>\n",
       "    <tr>\n",
       "      <th>0</th>\n",
       "      <td>female</td>\n",
       "      <td>group B</td>\n",
       "      <td>bachelor's degree</td>\n",
       "      <td>standard</td>\n",
       "      <td>none</td>\n",
       "      <td>72</td>\n",
       "      <td>72</td>\n",
       "      <td>74</td>\n",
       "      <td>218</td>\n",
       "    </tr>\n",
       "    <tr>\n",
       "      <th>1</th>\n",
       "      <td>female</td>\n",
       "      <td>group C</td>\n",
       "      <td>some college</td>\n",
       "      <td>standard</td>\n",
       "      <td>completed</td>\n",
       "      <td>69</td>\n",
       "      <td>90</td>\n",
       "      <td>88</td>\n",
       "      <td>247</td>\n",
       "    </tr>\n",
       "    <tr>\n",
       "      <th>2</th>\n",
       "      <td>female</td>\n",
       "      <td>group B</td>\n",
       "      <td>master's degree</td>\n",
       "      <td>standard</td>\n",
       "      <td>none</td>\n",
       "      <td>90</td>\n",
       "      <td>95</td>\n",
       "      <td>93</td>\n",
       "      <td>278</td>\n",
       "    </tr>\n",
       "    <tr>\n",
       "      <th>3</th>\n",
       "      <td>male</td>\n",
       "      <td>group A</td>\n",
       "      <td>associate's degree</td>\n",
       "      <td>free/reduced</td>\n",
       "      <td>none</td>\n",
       "      <td>47</td>\n",
       "      <td>57</td>\n",
       "      <td>44</td>\n",
       "      <td>148</td>\n",
       "    </tr>\n",
       "    <tr>\n",
       "      <th>4</th>\n",
       "      <td>male</td>\n",
       "      <td>group C</td>\n",
       "      <td>some college</td>\n",
       "      <td>standard</td>\n",
       "      <td>none</td>\n",
       "      <td>76</td>\n",
       "      <td>78</td>\n",
       "      <td>75</td>\n",
       "      <td>229</td>\n",
       "    </tr>\n",
       "  </tbody>\n",
       "</table>\n",
       "</div>"
      ],
      "text/plain": [
       "   gender race/ethnicity parental level of education         lunch  \\\n",
       "0  female        group B           bachelor's degree      standard   \n",
       "1  female        group C                some college      standard   \n",
       "2  female        group B             master's degree      standard   \n",
       "3    male        group A          associate's degree  free/reduced   \n",
       "4    male        group C                some college      standard   \n",
       "\n",
       "  test preparation course  math score  reading score  writing score  \\\n",
       "0                    none          72             72             74   \n",
       "1               completed          69             90             88   \n",
       "2                    none          90             95             93   \n",
       "3                    none          47             57             44   \n",
       "4                    none          76             78             75   \n",
       "\n",
       "   total score  \n",
       "0          218  \n",
       "1          247  \n",
       "2          278  \n",
       "3          148  \n",
       "4          229  "
      ]
     },
     "execution_count": 5,
     "metadata": {},
     "output_type": "execute_result"
    }
   ],
   "source": [
    "df.head()"
   ]
  },
  {
   "cell_type": "code",
   "execution_count": 4,
   "id": "5240f978",
   "metadata": {},
   "outputs": [],
   "source": [
    "df['total score']=df['math score']+df['reading score']+df['writing score']"
   ]
  },
  {
   "cell_type": "code",
   "execution_count": 7,
   "id": "26d39173",
   "metadata": {},
   "outputs": [],
   "source": [
    "X=df.drop(columns=['total score'],axis=1)\n",
    "y=df['total score']"
   ]
  },
  {
   "cell_type": "code",
   "execution_count": 9,
   "id": "96491470",
   "metadata": {},
   "outputs": [],
   "source": [
    "from sklearn.model_selection import train_test_split\n",
    "X_train,X_test,y_train,y_test=train_test_split(X,y,test_size=0.2,random_state=42)"
   ]
  },
  {
   "cell_type": "code",
   "execution_count": 10,
   "id": "26ec721c",
   "metadata": {},
   "outputs": [
    {
     "data": {
      "text/plain": [
       "((800, 8), (200, 8))"
      ]
     },
     "execution_count": 10,
     "metadata": {},
     "output_type": "execute_result"
    }
   ],
   "source": [
    "X_train.shape,X_test.shape"
   ]
  },
  {
   "cell_type": "code",
   "execution_count": 11,
   "id": "b6cfb317",
   "metadata": {},
   "outputs": [],
   "source": [
    "### Onehotencoding all catagory columes and standardscaler all numerial columes\n",
    "cat_feature = X.select_dtypes(include='object').columns\n",
    "num_feature = X.select_dtypes(exclude='object').columns\n",
    "\n",
    "from sklearn.preprocessing import OneHotEncoder,StandardScaler\n",
    "from sklearn.compose import ColumnTransformer\n",
    "\n",
    "category_transformer=OneHotEncoder(drop='first')\n",
    "numerical_transformer=StandardScaler()\n",
    "\n",
    "preprocessor=ColumnTransformer(\n",
    "    [\n",
    "         ('OneHotEncoder',category_transformer,cat_feature),\n",
    "         ('StandardScaler',numerical_transformer,num_feature)\n",
    "    ]\n",
    ")"
   ]
  },
  {
   "cell_type": "code",
   "execution_count": 12,
   "id": "5ae380f8",
   "metadata": {},
   "outputs": [],
   "source": [
    "X_train=preprocessor.fit_transform(X_train)"
   ]
  },
  {
   "cell_type": "code",
   "execution_count": 13,
   "id": "3c4a59e2",
   "metadata": {},
   "outputs": [],
   "source": [
    "X_test=preprocessor.transform(X_test)"
   ]
  },
  {
   "cell_type": "code",
   "execution_count": null,
   "id": "e97eab64",
   "metadata": {},
   "outputs": [],
   "source": [
    "### till to above feature engineering\n",
    "\n",
    "#### now go for import randomforest model and trainned it"
   ]
  },
  {
   "cell_type": "code",
   "execution_count": 26,
   "id": "413ca744",
   "metadata": {},
   "outputs": [],
   "source": [
    "models = {\n",
    "    \"Linear Regression\": LinearRegression(),\n",
    "    \"Ridge Regression\": Ridge(),\n",
    "    \"Lasso Regression\": Lasso(),\n",
    "    \"ElasticNet\": ElasticNet(),\n",
    "    \"Bayesian Ridge\": BayesianRidge(),\n",
    "    \"Huber Regressor\": HuberRegressor(),\n",
    "    \"Decision Tree\": DecisionTreeRegressor(),\n",
    "    \"Random Forest\": RandomForestRegressor(),\n",
    "    \"Extra Trees\": ExtraTreesRegressor(),\n",
    "    \"Gradient Boosting\": GradientBoostingRegressor(),\n",
    "    \"AdaBoost\": AdaBoostRegressor(),\n",
    "    \"Bagging Regressor\": BaggingRegressor(),\n",
    "    \"Support Vector Regressor\": SVR(),\n",
    "    \"KNN Regressor\": KNeighborsRegressor(),\n",
    "    \"Gaussian Process\": GaussianProcessRegressor(),\n",
    "    \"Passive Aggressive\": PassiveAggressiveRegressor(),\n",
    "    \"Dummy Regressor\": DummyRegressor()\n",
    "}"
   ]
  },
  {
   "cell_type": "code",
   "execution_count": 30,
   "id": "5a65f300",
   "metadata": {},
   "outputs": [],
   "source": [
    "def performance_metrix(name, model, X_train, y_train, X_test, y_test):\n",
    "    print(f\"\\n✅ {name} trained successfully and here is the score:\")\n",
    "    \n",
    "    # Make predictions\n",
    "    y_train_pred = model.predict(X_train)\n",
    "    y_test_pred = model.predict(X_test)\n",
    "    \n",
    "    # Train performance\n",
    "    train_mae = mean_absolute_error(y_train, y_train_pred)\n",
    "    train_rmse = np.sqrt(mean_squared_error(y_train, y_train_pred))\n",
    "    train_r2 = r2_score(y_train, y_train_pred)\n",
    "    \n",
    "    # Test performance\n",
    "    test_mae = mean_absolute_error(y_test, y_test_pred)\n",
    "    test_rmse = np.sqrt(mean_squared_error(y_test, y_test_pred))\n",
    "    test_r2 = r2_score(y_test, y_test_pred)\n",
    "\n",
    "    print(f\"📊 Train: MAE={train_mae:.2f}, RMSE={train_rmse:.2f}, R²={train_r2:.2f}\")\n",
    "    print(f\"📊 Test : MAE={test_mae:.2f}, RMSE={test_rmse:.2f}, R²={test_r2:.2f}\")\n",
    "    \n",
    "    # Optional: return metrics as dictionary\n",
    "    return {\n",
    "        \"Train MAE\": train_mae,\n",
    "        \"Train RMSE\": train_rmse,\n",
    "        \"Train R2\": train_r2,\n",
    "        \"Test MAE\": test_mae,\n",
    "        \"Test RMSE\": test_rmse,\n",
    "        \"Test R2\": test_r2\n",
    "    }"
   ]
  },
  {
   "cell_type": "code",
   "execution_count": 32,
   "id": "dd9b21b0",
   "metadata": {},
   "outputs": [
    {
     "name": "stdout",
     "output_type": "stream",
     "text": [
      "\n",
      "✅ Linear Regression trained successfully and here is the score:\n",
      "📊 Train: MAE=0.00, RMSE=0.00, R²=1.00\n",
      "📊 Test : MAE=0.00, RMSE=0.00, R²=1.00\n",
      "\n",
      "✅ Ridge Regression trained successfully and here is the score:\n",
      "📊 Train: MAE=0.02, RMSE=0.02, R²=1.00\n",
      "📊 Test : MAE=0.02, RMSE=0.03, R²=1.00\n",
      "\n",
      "✅ Lasso Regression trained successfully and here is the score:\n",
      "📊 Train: MAE=0.84, RMSE=1.06, R²=1.00\n",
      "📊 Test : MAE=0.87, RMSE=1.10, R²=1.00\n",
      "\n",
      "✅ ElasticNet trained successfully and here is the score:\n",
      "📊 Train: MAE=5.61, RMSE=7.02, R²=0.97\n",
      "📊 Test : MAE=5.82, RMSE=7.39, R²=0.97\n",
      "\n",
      "✅ Bayesian Ridge trained successfully and here is the score:\n",
      "📊 Train: MAE=0.00, RMSE=0.00, R²=1.00\n",
      "📊 Test : MAE=0.00, RMSE=0.00, R²=1.00\n",
      "\n",
      "✅ Huber Regressor trained successfully and here is the score:\n",
      "📊 Train: MAE=1.64, RMSE=5.58, R²=0.98\n",
      "📊 Test : MAE=1.90, RMSE=6.01, R²=0.98\n",
      "\n",
      "✅ Decision Tree trained successfully and here is the score:\n",
      "📊 Train: MAE=0.00, RMSE=0.00, R²=1.00\n",
      "📊 Test : MAE=3.31, RMSE=4.87, R²=0.99\n",
      "\n",
      "✅ Random Forest trained successfully and here is the score:\n",
      "📊 Train: MAE=0.56, RMSE=0.93, R²=1.00\n",
      "📊 Test : MAE=1.61, RMSE=3.69, R²=0.99\n",
      "\n",
      "✅ Extra Trees trained successfully and here is the score:\n",
      "📊 Train: MAE=0.00, RMSE=0.00, R²=1.00\n",
      "📊 Test : MAE=1.22, RMSE=3.26, R²=0.99\n",
      "\n",
      "✅ Gradient Boosting trained successfully and here is the score:\n",
      "📊 Train: MAE=1.00, RMSE=1.27, R²=1.00\n",
      "📊 Test : MAE=1.64, RMSE=2.87, R²=1.00\n",
      "\n",
      "✅ AdaBoost trained successfully and here is the score:\n",
      "📊 Train: MAE=3.91, RMSE=5.09, R²=0.99\n",
      "📊 Test : MAE=4.55, RMSE=6.43, R²=0.98\n",
      "\n",
      "✅ Bagging Regressor trained successfully and here is the score:\n",
      "📊 Train: MAE=0.87, RMSE=1.34, R²=1.00\n",
      "📊 Test : MAE=2.10, RMSE=3.81, R²=0.99\n",
      "\n",
      "✅ Support Vector Regressor trained successfully and here is the score:\n",
      "📊 Train: MAE=6.24, RMSE=14.96, R²=0.88\n",
      "📊 Test : MAE=7.67, RMSE=21.33, R²=0.76\n",
      "\n",
      "✅ KNN Regressor trained successfully and here is the score:\n",
      "📊 Train: MAE=4.52, RMSE=5.80, R²=0.98\n",
      "📊 Test : MAE=5.59, RMSE=7.62, R²=0.97\n",
      "\n",
      "✅ Gaussian Process trained successfully and here is the score:\n",
      "📊 Train: MAE=0.00, RMSE=0.00, R²=1.00\n",
      "📊 Test : MAE=7.20, RMSE=11.09, R²=0.94\n",
      "\n",
      "✅ Passive Aggressive trained successfully and here is the score:\n",
      "📊 Train: MAE=0.05, RMSE=0.05, R²=1.00\n",
      "📊 Test : MAE=0.05, RMSE=0.05, R²=1.00\n",
      "\n",
      "✅ Dummy Regressor trained successfully and here is the score:\n",
      "📊 Train: MAE=33.91, RMSE=42.37, R²=0.00\n",
      "📊 Test : MAE=34.90, RMSE=44.33, R²=-0.02\n"
     ]
    }
   ],
   "source": [
    "for name, model in models.items():\n",
    "    model.fit(X_train, y_train)\n",
    "    metrics = performance_metrix(name, model, X_train, y_train, X_test, y_test)\n"
   ]
  },
  {
   "cell_type": "code",
   "execution_count": null,
   "id": "e8450522",
   "metadata": {},
   "outputs": [],
   "source": []
  },
  {
   "cell_type": "code",
   "execution_count": null,
   "id": "de29a993",
   "metadata": {},
   "outputs": [],
   "source": []
  },
  {
   "cell_type": "code",
   "execution_count": null,
   "id": "c42b04f7",
   "metadata": {},
   "outputs": [],
   "source": []
  },
  {
   "cell_type": "code",
   "execution_count": null,
   "id": "f37f0354",
   "metadata": {},
   "outputs": [],
   "source": []
  },
  {
   "cell_type": "code",
   "execution_count": null,
   "id": "ebf0b776",
   "metadata": {},
   "outputs": [],
   "source": []
  },
  {
   "cell_type": "code",
   "execution_count": null,
   "id": "e87e1929",
   "metadata": {},
   "outputs": [],
   "source": []
  }
 ],
 "metadata": {
  "kernelspec": {
   "display_name": "Python 3",
   "language": "python",
   "name": "python3"
  },
  "language_info": {
   "codemirror_mode": {
    "name": "ipython",
    "version": 3
   },
   "file_extension": ".py",
   "mimetype": "text/x-python",
   "name": "python",
   "nbconvert_exporter": "python",
   "pygments_lexer": "ipython3",
   "version": "3.8.0"
  }
 },
 "nbformat": 4,
 "nbformat_minor": 5
}
